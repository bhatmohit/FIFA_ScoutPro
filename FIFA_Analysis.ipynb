{
  "cells": [
    {
      "cell_type": "markdown",
      "metadata": {
        "id": "view-in-github",
        "colab_type": "text"
      },
      "source": [
        "<a href=\"https://colab.research.google.com/github/bhatmohit/FIFA_ScoutPro/blob/master/FIFA_Analysis.ipynb\" target=\"_parent\"><img src=\"https://colab.research.google.com/assets/colab-badge.svg\" alt=\"Open In Colab\"/></a>"
      ]
    },
    {
      "cell_type": "markdown",
      "id": "22312bb4",
      "metadata": {
        "id": "22312bb4"
      },
      "source": [
        " ## 1)  Description\n",
        "\n",
        "   Perform EDA to identify patterns and answer the following questions:\n",
        "1) How do player attributes vary for attacking vs mid vs defensive positions?\n",
        "2) Are there any patterns in the performance of players based on their ages?\n",
        "\n",
        "Data Source: https://www.kaggle.com/datasets/stefanoleone992/fifa-22-complete-player-dataset?resource=download\n"
      ]
    },
    {
      "cell_type": "markdown",
      "id": "5ffad697",
      "metadata": {
        "id": "5ffad697"
      },
      "source": [
        "## 2. Data Analysis\n",
        "\n",
        "### 2-1. Importing the libraries necessary for your EDA\n",
        "\n"
      ]
    },
    {
      "cell_type": "code",
      "execution_count": null,
      "id": "b1ee885e",
      "metadata": {
        "id": "b1ee885e"
      },
      "outputs": [],
      "source": [
        "import pandas as pd\n",
        "import numpy as np\n",
        "import matplotlib.pyplot as plt\n",
        "\n",
        "df = pd.read_excel('Career Mode player datasets - FIFA 15-22.xlsx')"
      ]
    },
    {
      "cell_type": "markdown",
      "id": "ac046da7",
      "metadata": {
        "id": "ac046da7"
      },
      "source": [
        "### 2-2. Import libraries for EDA\n"
      ]
    },
    {
      "cell_type": "code",
      "execution_count": null,
      "id": "5e60b871",
      "metadata": {
        "id": "5e60b871",
        "outputId": "b3aee135-4e45-47b1-aef9-1875238ff24c"
      },
      "outputs": [
        {
          "data": {
            "text/html": [
              "<div>\n",
              "<style scoped>\n",
              "    .dataframe tbody tr th:only-of-type {\n",
              "        vertical-align: middle;\n",
              "    }\n",
              "\n",
              "    .dataframe tbody tr th {\n",
              "        vertical-align: top;\n",
              "    }\n",
              "\n",
              "    .dataframe thead th {\n",
              "        text-align: right;\n",
              "    }\n",
              "</style>\n",
              "<table border=\"1\" class=\"dataframe\">\n",
              "  <thead>\n",
              "    <tr style=\"text-align: right;\">\n",
              "      <th></th>\n",
              "      <th>sofifa_id</th>\n",
              "      <th>player_url</th>\n",
              "      <th>short_name</th>\n",
              "      <th>long_name</th>\n",
              "      <th>player_positions</th>\n",
              "      <th>overall</th>\n",
              "      <th>potential</th>\n",
              "      <th>value_eur</th>\n",
              "      <th>wage_eur</th>\n",
              "      <th>age</th>\n",
              "      <th>...</th>\n",
              "      <th>lcb</th>\n",
              "      <th>cb</th>\n",
              "      <th>rcb</th>\n",
              "      <th>rb</th>\n",
              "      <th>gk</th>\n",
              "      <th>player_face_url</th>\n",
              "      <th>club_logo_url</th>\n",
              "      <th>club_flag_url</th>\n",
              "      <th>nation_logo_url</th>\n",
              "      <th>nation_flag_url</th>\n",
              "    </tr>\n",
              "  </thead>\n",
              "  <tbody>\n",
              "    <tr>\n",
              "      <th>0</th>\n",
              "      <td>158023</td>\n",
              "      <td>https://sofifa.com/player/158023/lionel-messi/...</td>\n",
              "      <td>L. Messi</td>\n",
              "      <td>Lionel Andrés Messi Cuccittini</td>\n",
              "      <td>CF</td>\n",
              "      <td>93</td>\n",
              "      <td>95</td>\n",
              "      <td>100500000.0</td>\n",
              "      <td>550000.0</td>\n",
              "      <td>27</td>\n",
              "      <td>...</td>\n",
              "      <td>45+3</td>\n",
              "      <td>45+3</td>\n",
              "      <td>45+3</td>\n",
              "      <td>54+3</td>\n",
              "      <td>15+3</td>\n",
              "      <td>https://cdn.sofifa.net/players/158/023/15_120.png</td>\n",
              "      <td>https://cdn.sofifa.net/teams/241/60.png</td>\n",
              "      <td>https://cdn.sofifa.net/flags/es.png</td>\n",
              "      <td>https://cdn.sofifa.net/teams/1369/60.png</td>\n",
              "      <td>https://cdn.sofifa.net/flags/ar.png</td>\n",
              "    </tr>\n",
              "    <tr>\n",
              "      <th>1</th>\n",
              "      <td>20801</td>\n",
              "      <td>https://sofifa.com/player/20801/c-ronaldo-dos-...</td>\n",
              "      <td>Cristiano Ronaldo</td>\n",
              "      <td>Cristiano Ronaldo dos Santos Aveiro</td>\n",
              "      <td>LW, LM</td>\n",
              "      <td>92</td>\n",
              "      <td>92</td>\n",
              "      <td>79000000.0</td>\n",
              "      <td>375000.0</td>\n",
              "      <td>29</td>\n",
              "      <td>...</td>\n",
              "      <td>52+3</td>\n",
              "      <td>52+3</td>\n",
              "      <td>52+3</td>\n",
              "      <td>57+3</td>\n",
              "      <td>16+3</td>\n",
              "      <td>https://cdn.sofifa.net/players/020/801/15_120.png</td>\n",
              "      <td>https://cdn.sofifa.net/teams/243/60.png</td>\n",
              "      <td>https://cdn.sofifa.net/flags/es.png</td>\n",
              "      <td>https://cdn.sofifa.net/teams/1354/60.png</td>\n",
              "      <td>https://cdn.sofifa.net/flags/pt.png</td>\n",
              "    </tr>\n",
              "    <tr>\n",
              "      <th>2</th>\n",
              "      <td>9014</td>\n",
              "      <td>https://sofifa.com/player/9014/arjen-robben/15...</td>\n",
              "      <td>A. Robben</td>\n",
              "      <td>Arjen Robben</td>\n",
              "      <td>RM, LM, RW</td>\n",
              "      <td>90</td>\n",
              "      <td>90</td>\n",
              "      <td>54500000.0</td>\n",
              "      <td>275000.0</td>\n",
              "      <td>30</td>\n",
              "      <td>...</td>\n",
              "      <td>46+3</td>\n",
              "      <td>46+3</td>\n",
              "      <td>46+3</td>\n",
              "      <td>55+3</td>\n",
              "      <td>14+3</td>\n",
              "      <td>https://cdn.sofifa.net/players/009/014/15_120.png</td>\n",
              "      <td>https://cdn.sofifa.net/teams/21/60.png</td>\n",
              "      <td>https://cdn.sofifa.net/flags/de.png</td>\n",
              "      <td>https://cdn.sofifa.net/teams/105035/60.png</td>\n",
              "      <td>https://cdn.sofifa.net/flags/nl.png</td>\n",
              "    </tr>\n",
              "    <tr>\n",
              "      <th>3</th>\n",
              "      <td>41236</td>\n",
              "      <td>https://sofifa.com/player/41236/zlatan-ibrahim...</td>\n",
              "      <td>Z. Ibrahimović</td>\n",
              "      <td>Zlatan Ibrahimović</td>\n",
              "      <td>ST</td>\n",
              "      <td>90</td>\n",
              "      <td>90</td>\n",
              "      <td>52500000.0</td>\n",
              "      <td>275000.0</td>\n",
              "      <td>32</td>\n",
              "      <td>...</td>\n",
              "      <td>55+3</td>\n",
              "      <td>55+3</td>\n",
              "      <td>55+3</td>\n",
              "      <td>56+3</td>\n",
              "      <td>17+3</td>\n",
              "      <td>https://cdn.sofifa.net/players/041/236/15_120.png</td>\n",
              "      <td>https://cdn.sofifa.net/teams/73/60.png</td>\n",
              "      <td>https://cdn.sofifa.net/flags/fr.png</td>\n",
              "      <td>https://cdn.sofifa.net/teams/1363/60.png</td>\n",
              "      <td>https://cdn.sofifa.net/flags/se.png</td>\n",
              "    </tr>\n",
              "    <tr>\n",
              "      <th>4</th>\n",
              "      <td>167495</td>\n",
              "      <td>https://sofifa.com/player/167495/manuel-neuer/...</td>\n",
              "      <td>M. Neuer</td>\n",
              "      <td>Manuel Peter Neuer</td>\n",
              "      <td>GK</td>\n",
              "      <td>90</td>\n",
              "      <td>90</td>\n",
              "      <td>63500000.0</td>\n",
              "      <td>300000.0</td>\n",
              "      <td>28</td>\n",
              "      <td>...</td>\n",
              "      <td>38+3</td>\n",
              "      <td>38+3</td>\n",
              "      <td>38+3</td>\n",
              "      <td>36+3</td>\n",
              "      <td>87+3</td>\n",
              "      <td>https://cdn.sofifa.net/players/167/495/15_120.png</td>\n",
              "      <td>https://cdn.sofifa.net/teams/21/60.png</td>\n",
              "      <td>https://cdn.sofifa.net/flags/de.png</td>\n",
              "      <td>https://cdn.sofifa.net/teams/1337/60.png</td>\n",
              "      <td>https://cdn.sofifa.net/flags/de.png</td>\n",
              "    </tr>\n",
              "  </tbody>\n",
              "</table>\n",
              "<p>5 rows × 110 columns</p>\n",
              "</div>"
            ],
            "text/plain": [
              "   sofifa_id                                         player_url  \\\n",
              "0     158023  https://sofifa.com/player/158023/lionel-messi/...   \n",
              "1      20801  https://sofifa.com/player/20801/c-ronaldo-dos-...   \n",
              "2       9014  https://sofifa.com/player/9014/arjen-robben/15...   \n",
              "3      41236  https://sofifa.com/player/41236/zlatan-ibrahim...   \n",
              "4     167495  https://sofifa.com/player/167495/manuel-neuer/...   \n",
              "\n",
              "          short_name                            long_name player_positions  \\\n",
              "0           L. Messi       Lionel Andrés Messi Cuccittini               CF   \n",
              "1  Cristiano Ronaldo  Cristiano Ronaldo dos Santos Aveiro           LW, LM   \n",
              "2          A. Robben                         Arjen Robben       RM, LM, RW   \n",
              "3     Z. Ibrahimović                   Zlatan Ibrahimović               ST   \n",
              "4           M. Neuer                   Manuel Peter Neuer               GK   \n",
              "\n",
              "   overall  potential    value_eur  wage_eur  age  ...   lcb    cb   rcb  \\\n",
              "0       93         95  100500000.0  550000.0   27  ...  45+3  45+3  45+3   \n",
              "1       92         92   79000000.0  375000.0   29  ...  52+3  52+3  52+3   \n",
              "2       90         90   54500000.0  275000.0   30  ...  46+3  46+3  46+3   \n",
              "3       90         90   52500000.0  275000.0   32  ...  55+3  55+3  55+3   \n",
              "4       90         90   63500000.0  300000.0   28  ...  38+3  38+3  38+3   \n",
              "\n",
              "     rb    gk                                    player_face_url  \\\n",
              "0  54+3  15+3  https://cdn.sofifa.net/players/158/023/15_120.png   \n",
              "1  57+3  16+3  https://cdn.sofifa.net/players/020/801/15_120.png   \n",
              "2  55+3  14+3  https://cdn.sofifa.net/players/009/014/15_120.png   \n",
              "3  56+3  17+3  https://cdn.sofifa.net/players/041/236/15_120.png   \n",
              "4  36+3  87+3  https://cdn.sofifa.net/players/167/495/15_120.png   \n",
              "\n",
              "                             club_logo_url  \\\n",
              "0  https://cdn.sofifa.net/teams/241/60.png   \n",
              "1  https://cdn.sofifa.net/teams/243/60.png   \n",
              "2   https://cdn.sofifa.net/teams/21/60.png   \n",
              "3   https://cdn.sofifa.net/teams/73/60.png   \n",
              "4   https://cdn.sofifa.net/teams/21/60.png   \n",
              "\n",
              "                         club_flag_url  \\\n",
              "0  https://cdn.sofifa.net/flags/es.png   \n",
              "1  https://cdn.sofifa.net/flags/es.png   \n",
              "2  https://cdn.sofifa.net/flags/de.png   \n",
              "3  https://cdn.sofifa.net/flags/fr.png   \n",
              "4  https://cdn.sofifa.net/flags/de.png   \n",
              "\n",
              "                              nation_logo_url  \\\n",
              "0    https://cdn.sofifa.net/teams/1369/60.png   \n",
              "1    https://cdn.sofifa.net/teams/1354/60.png   \n",
              "2  https://cdn.sofifa.net/teams/105035/60.png   \n",
              "3    https://cdn.sofifa.net/teams/1363/60.png   \n",
              "4    https://cdn.sofifa.net/teams/1337/60.png   \n",
              "\n",
              "                       nation_flag_url  \n",
              "0  https://cdn.sofifa.net/flags/ar.png  \n",
              "1  https://cdn.sofifa.net/flags/pt.png  \n",
              "2  https://cdn.sofifa.net/flags/nl.png  \n",
              "3  https://cdn.sofifa.net/flags/se.png  \n",
              "4  https://cdn.sofifa.net/flags/de.png  \n",
              "\n",
              "[5 rows x 110 columns]"
            ]
          },
          "execution_count": 120,
          "metadata": {},
          "output_type": "execute_result"
        }
      ],
      "source": [
        "df.head()"
      ]
    },
    {
      "cell_type": "markdown",
      "id": "92b95604",
      "metadata": {
        "id": "92b95604"
      },
      "source": [
        "### 2-3. Review Data\n"
      ]
    },
    {
      "cell_type": "code",
      "execution_count": null,
      "id": "59c8d1b8",
      "metadata": {
        "id": "59c8d1b8",
        "outputId": "a7569fbb-0c5a-46ef-e2a8-a689c44124be"
      },
      "outputs": [
        {
          "data": {
            "text/plain": [
              "(16155, 110)"
            ]
          },
          "execution_count": 121,
          "metadata": {},
          "output_type": "execute_result"
        }
      ],
      "source": [
        "df.shape"
      ]
    },
    {
      "cell_type": "code",
      "execution_count": null,
      "id": "74ed52ff",
      "metadata": {
        "id": "74ed52ff",
        "outputId": "dedede3a-4e4b-4ec0-e2db-5494e753440e"
      },
      "outputs": [
        {
          "name": "stdout",
          "output_type": "stream",
          "text": [
            "<class 'pandas.core.frame.DataFrame'>\n",
            "RangeIndex: 16155 entries, 0 to 16154\n",
            "Columns: 110 entries, sofifa_id to nation_flag_url\n",
            "dtypes: datetime64[ns](2), float64(17), int64(43), object(48)\n",
            "memory usage: 13.6+ MB\n"
          ]
        },
        {
          "data": {
            "text/plain": [
              "sofifa_id            int64\n",
              "player_url          object\n",
              "short_name          object\n",
              "long_name           object\n",
              "player_positions    object\n",
              "                     ...  \n",
              "player_face_url     object\n",
              "club_logo_url       object\n",
              "club_flag_url       object\n",
              "nation_logo_url     object\n",
              "nation_flag_url     object\n",
              "Length: 110, dtype: object"
            ]
          },
          "execution_count": 122,
          "metadata": {},
          "output_type": "execute_result"
        }
      ],
      "source": [
        "df.info()\n",
        "df.dtypes"
      ]
    },
    {
      "cell_type": "code",
      "execution_count": null,
      "id": "4c822667",
      "metadata": {
        "id": "4c822667",
        "outputId": "4962a06d-f0e6-47f6-a43a-1de745e228d9"
      },
      "outputs": [
        {
          "data": {
            "text/plain": [
              "count    16155.000000\n",
              "mean        63.830393\n",
              "std          7.169896\n",
              "min         40.000000\n",
              "25%         59.000000\n",
              "50%         64.000000\n",
              "75%         68.000000\n",
              "max         93.000000\n",
              "Name: overall, dtype: float64"
            ]
          },
          "execution_count": 123,
          "metadata": {},
          "output_type": "execute_result"
        }
      ],
      "source": [
        "df['overall'].describe()"
      ]
    },
    {
      "cell_type": "markdown",
      "id": "d045b54d",
      "metadata": {
        "id": "d045b54d"
      },
      "source": [
        "### 2-4. Generate Sub-dataset"
      ]
    },
    {
      "cell_type": "code",
      "execution_count": null,
      "id": "a12e37d3",
      "metadata": {
        "id": "a12e37d3",
        "outputId": "7c27e37b-c2ac-4e6c-826b-fc595039b91f"
      },
      "outputs": [
        {
          "name": "stdout",
          "output_type": "stream",
          "text": [
            "<class 'pandas.core.frame.DataFrame'>\n",
            "RangeIndex: 16155 entries, 0 to 16154\n",
            "Data columns (total 11 columns):\n",
            " #   Column            Non-Null Count  Dtype  \n",
            "---  ------            --------------  -----  \n",
            " 0   short_name        16155 non-null  object \n",
            " 1   age               16155 non-null  int64  \n",
            " 2   league_level      15916 non-null  float64\n",
            " 3   pace              14380 non-null  float64\n",
            " 4   shooting          14380 non-null  float64\n",
            " 5   passing           14380 non-null  float64\n",
            " 6   dribbling         14380 non-null  float64\n",
            " 7   defending         14380 non-null  float64\n",
            " 8   physic            14380 non-null  float64\n",
            " 9   overall           16155 non-null  int64  \n",
            " 10  player_positions  16155 non-null  object \n",
            "dtypes: float64(7), int64(2), object(2)\n",
            "memory usage: 1.4+ MB\n"
          ]
        },
        {
          "data": {
            "text/html": [
              "<div>\n",
              "<style scoped>\n",
              "    .dataframe tbody tr th:only-of-type {\n",
              "        vertical-align: middle;\n",
              "    }\n",
              "\n",
              "    .dataframe tbody tr th {\n",
              "        vertical-align: top;\n",
              "    }\n",
              "\n",
              "    .dataframe thead th {\n",
              "        text-align: right;\n",
              "    }\n",
              "</style>\n",
              "<table border=\"1\" class=\"dataframe\">\n",
              "  <thead>\n",
              "    <tr style=\"text-align: right;\">\n",
              "      <th></th>\n",
              "      <th>short_name</th>\n",
              "      <th>age</th>\n",
              "      <th>league_level</th>\n",
              "      <th>pace</th>\n",
              "      <th>shooting</th>\n",
              "      <th>passing</th>\n",
              "      <th>dribbling</th>\n",
              "      <th>defending</th>\n",
              "      <th>physic</th>\n",
              "      <th>overall</th>\n",
              "      <th>player_positions</th>\n",
              "    </tr>\n",
              "  </thead>\n",
              "  <tbody>\n",
              "    <tr>\n",
              "      <th>0</th>\n",
              "      <td>L. Messi</td>\n",
              "      <td>27</td>\n",
              "      <td>1.0</td>\n",
              "      <td>93.0</td>\n",
              "      <td>89.0</td>\n",
              "      <td>86.0</td>\n",
              "      <td>96.0</td>\n",
              "      <td>27.0</td>\n",
              "      <td>63.0</td>\n",
              "      <td>93</td>\n",
              "      <td>CF</td>\n",
              "    </tr>\n",
              "    <tr>\n",
              "      <th>1</th>\n",
              "      <td>Cristiano Ronaldo</td>\n",
              "      <td>29</td>\n",
              "      <td>1.0</td>\n",
              "      <td>93.0</td>\n",
              "      <td>93.0</td>\n",
              "      <td>81.0</td>\n",
              "      <td>91.0</td>\n",
              "      <td>32.0</td>\n",
              "      <td>79.0</td>\n",
              "      <td>92</td>\n",
              "      <td>LW, LM</td>\n",
              "    </tr>\n",
              "    <tr>\n",
              "      <th>2</th>\n",
              "      <td>A. Robben</td>\n",
              "      <td>30</td>\n",
              "      <td>1.0</td>\n",
              "      <td>93.0</td>\n",
              "      <td>86.0</td>\n",
              "      <td>83.0</td>\n",
              "      <td>92.0</td>\n",
              "      <td>32.0</td>\n",
              "      <td>64.0</td>\n",
              "      <td>90</td>\n",
              "      <td>RM, LM, RW</td>\n",
              "    </tr>\n",
              "    <tr>\n",
              "      <th>3</th>\n",
              "      <td>Z. Ibrahimović</td>\n",
              "      <td>32</td>\n",
              "      <td>1.0</td>\n",
              "      <td>76.0</td>\n",
              "      <td>91.0</td>\n",
              "      <td>81.0</td>\n",
              "      <td>86.0</td>\n",
              "      <td>34.0</td>\n",
              "      <td>86.0</td>\n",
              "      <td>90</td>\n",
              "      <td>ST</td>\n",
              "    </tr>\n",
              "    <tr>\n",
              "      <th>4</th>\n",
              "      <td>M. Neuer</td>\n",
              "      <td>28</td>\n",
              "      <td>1.0</td>\n",
              "      <td>NaN</td>\n",
              "      <td>NaN</td>\n",
              "      <td>NaN</td>\n",
              "      <td>NaN</td>\n",
              "      <td>NaN</td>\n",
              "      <td>NaN</td>\n",
              "      <td>90</td>\n",
              "      <td>GK</td>\n",
              "    </tr>\n",
              "  </tbody>\n",
              "</table>\n",
              "</div>"
            ],
            "text/plain": [
              "          short_name  age  league_level  pace  shooting  passing  dribbling  \\\n",
              "0           L. Messi   27           1.0  93.0      89.0     86.0       96.0   \n",
              "1  Cristiano Ronaldo   29           1.0  93.0      93.0     81.0       91.0   \n",
              "2          A. Robben   30           1.0  93.0      86.0     83.0       92.0   \n",
              "3     Z. Ibrahimović   32           1.0  76.0      91.0     81.0       86.0   \n",
              "4           M. Neuer   28           1.0   NaN       NaN      NaN        NaN   \n",
              "\n",
              "   defending  physic  overall player_positions  \n",
              "0       27.0    63.0       93               CF  \n",
              "1       32.0    79.0       92           LW, LM  \n",
              "2       32.0    64.0       90       RM, LM, RW  \n",
              "3       34.0    86.0       90               ST  \n",
              "4        NaN     NaN       90               GK  "
            ]
          },
          "execution_count": 124,
          "metadata": {},
          "output_type": "execute_result"
        }
      ],
      "source": [
        "# 1. Make sub-dataset(s) from your original dataset for your research objective, goals by dropping unnecessary variables\n",
        "df = df.filter(items=['short_name', 'age', 'league_level', 'pace', 'shooting', 'passing', 'dribbling', 'defending', 'physic', 'overall', 'player_positions'])\n",
        "df.info()\n",
        "df.head()"
      ]
    },
    {
      "cell_type": "code",
      "execution_count": null,
      "id": "ff9ca4e2",
      "metadata": {
        "id": "ff9ca4e2",
        "outputId": "323447b6-4613-45c3-a228-f0480f3b0435"
      },
      "outputs": [
        {
          "data": {
            "text/html": [
              "<div>\n",
              "<style scoped>\n",
              "    .dataframe tbody tr th:only-of-type {\n",
              "        vertical-align: middle;\n",
              "    }\n",
              "\n",
              "    .dataframe tbody tr th {\n",
              "        vertical-align: top;\n",
              "    }\n",
              "\n",
              "    .dataframe thead th {\n",
              "        text-align: right;\n",
              "    }\n",
              "</style>\n",
              "<table border=\"1\" class=\"dataframe\">\n",
              "  <thead>\n",
              "    <tr style=\"text-align: right;\">\n",
              "      <th></th>\n",
              "      <th>short_name</th>\n",
              "      <th>age</th>\n",
              "      <th>league_level</th>\n",
              "      <th>pace</th>\n",
              "      <th>shooting</th>\n",
              "      <th>passing</th>\n",
              "      <th>dribbling</th>\n",
              "      <th>defending</th>\n",
              "      <th>physique</th>\n",
              "      <th>overall</th>\n",
              "      <th>player_positions</th>\n",
              "    </tr>\n",
              "  </thead>\n",
              "  <tbody>\n",
              "    <tr>\n",
              "      <th>0</th>\n",
              "      <td>L. Messi</td>\n",
              "      <td>27</td>\n",
              "      <td>1.0</td>\n",
              "      <td>93.0</td>\n",
              "      <td>89.0</td>\n",
              "      <td>86.0</td>\n",
              "      <td>96.0</td>\n",
              "      <td>27.0</td>\n",
              "      <td>63.0</td>\n",
              "      <td>93</td>\n",
              "      <td>CF</td>\n",
              "    </tr>\n",
              "    <tr>\n",
              "      <th>1</th>\n",
              "      <td>Cristiano Ronaldo</td>\n",
              "      <td>29</td>\n",
              "      <td>1.0</td>\n",
              "      <td>93.0</td>\n",
              "      <td>93.0</td>\n",
              "      <td>81.0</td>\n",
              "      <td>91.0</td>\n",
              "      <td>32.0</td>\n",
              "      <td>79.0</td>\n",
              "      <td>92</td>\n",
              "      <td>LW, LM</td>\n",
              "    </tr>\n",
              "    <tr>\n",
              "      <th>2</th>\n",
              "      <td>A. Robben</td>\n",
              "      <td>30</td>\n",
              "      <td>1.0</td>\n",
              "      <td>93.0</td>\n",
              "      <td>86.0</td>\n",
              "      <td>83.0</td>\n",
              "      <td>92.0</td>\n",
              "      <td>32.0</td>\n",
              "      <td>64.0</td>\n",
              "      <td>90</td>\n",
              "      <td>RM, LM, RW</td>\n",
              "    </tr>\n",
              "    <tr>\n",
              "      <th>3</th>\n",
              "      <td>Z. Ibrahimović</td>\n",
              "      <td>32</td>\n",
              "      <td>1.0</td>\n",
              "      <td>76.0</td>\n",
              "      <td>91.0</td>\n",
              "      <td>81.0</td>\n",
              "      <td>86.0</td>\n",
              "      <td>34.0</td>\n",
              "      <td>86.0</td>\n",
              "      <td>90</td>\n",
              "      <td>ST</td>\n",
              "    </tr>\n",
              "    <tr>\n",
              "      <th>4</th>\n",
              "      <td>M. Neuer</td>\n",
              "      <td>28</td>\n",
              "      <td>1.0</td>\n",
              "      <td>NaN</td>\n",
              "      <td>NaN</td>\n",
              "      <td>NaN</td>\n",
              "      <td>NaN</td>\n",
              "      <td>NaN</td>\n",
              "      <td>NaN</td>\n",
              "      <td>90</td>\n",
              "      <td>GK</td>\n",
              "    </tr>\n",
              "  </tbody>\n",
              "</table>\n",
              "</div>"
            ],
            "text/plain": [
              "          short_name  age  league_level  pace  shooting  passing  dribbling  \\\n",
              "0           L. Messi   27           1.0  93.0      89.0     86.0       96.0   \n",
              "1  Cristiano Ronaldo   29           1.0  93.0      93.0     81.0       91.0   \n",
              "2          A. Robben   30           1.0  93.0      86.0     83.0       92.0   \n",
              "3     Z. Ibrahimović   32           1.0  76.0      91.0     81.0       86.0   \n",
              "4           M. Neuer   28           1.0   NaN       NaN      NaN        NaN   \n",
              "\n",
              "   defending  physique  overall player_positions  \n",
              "0       27.0      63.0       93               CF  \n",
              "1       32.0      79.0       92           LW, LM  \n",
              "2       32.0      64.0       90       RM, LM, RW  \n",
              "3       34.0      86.0       90               ST  \n",
              "4        NaN       NaN       90               GK  "
            ]
          },
          "execution_count": 125,
          "metadata": {},
          "output_type": "execute_result"
        }
      ],
      "source": [
        "# 2. try to change variable names\n",
        "df.rename(columns={'physic': 'physique'}, inplace=True)\n",
        "df.head()"
      ]
    },
    {
      "cell_type": "code",
      "execution_count": null,
      "id": "15fb9a35",
      "metadata": {
        "id": "15fb9a35",
        "outputId": "b53c1e1d-f2e8-49d1-d517-a0539094566e"
      },
      "outputs": [
        {
          "data": {
            "text/plain": [
              "(14178, 11)"
            ]
          },
          "execution_count": 126,
          "metadata": {},
          "output_type": "execute_result"
        }
      ],
      "source": [
        "# 3. check if there are missing values\n",
        "df.isnull().sum()\n",
        "#dropping records with missing values as they are far less than the total number of records, thus won't impact our analysis\n",
        "df.dropna(inplace=True)\n",
        "df.shape"
      ]
    },
    {
      "cell_type": "code",
      "execution_count": null,
      "id": "a8608f72",
      "metadata": {
        "id": "a8608f72",
        "outputId": "c74dda34-0e4c-4e2f-adfc-a3358950302e"
      },
      "outputs": [
        {
          "data": {
            "text/plain": [
              "0        False\n",
              "1        False\n",
              "2        False\n",
              "3        False\n",
              "5        False\n",
              "         ...  \n",
              "16150    False\n",
              "16151    False\n",
              "16152    False\n",
              "16153    False\n",
              "16154    False\n",
              "Length: 14178, dtype: bool"
            ]
          },
          "execution_count": 127,
          "metadata": {},
          "output_type": "execute_result"
        }
      ],
      "source": [
        "# 4. Check if there are duplicated values\n",
        "df.duplicated()"
      ]
    },
    {
      "cell_type": "markdown",
      "id": "a3e91153",
      "metadata": {
        "id": "a3e91153"
      },
      "source": [
        "### 2-5. Checking Outliers"
      ]
    },
    {
      "cell_type": "code",
      "execution_count": null,
      "id": "60672c8e",
      "metadata": {
        "id": "60672c8e",
        "outputId": "17804a3a-22f1-4b28-f533-cd645acb0d98"
      },
      "outputs": [
        {
          "data": {
            "text/html": [
              "<div>\n",
              "<style scoped>\n",
              "    .dataframe tbody tr th:only-of-type {\n",
              "        vertical-align: middle;\n",
              "    }\n",
              "\n",
              "    .dataframe tbody tr th {\n",
              "        vertical-align: top;\n",
              "    }\n",
              "\n",
              "    .dataframe thead th {\n",
              "        text-align: right;\n",
              "    }\n",
              "</style>\n",
              "<table border=\"1\" class=\"dataframe\">\n",
              "  <thead>\n",
              "    <tr style=\"text-align: right;\">\n",
              "      <th></th>\n",
              "      <th>short_name</th>\n",
              "      <th>age</th>\n",
              "      <th>league_level</th>\n",
              "      <th>pace</th>\n",
              "      <th>shooting</th>\n",
              "      <th>passing</th>\n",
              "      <th>dribbling</th>\n",
              "      <th>defending</th>\n",
              "      <th>physique</th>\n",
              "      <th>overall</th>\n",
              "      <th>...</th>\n",
              "      <th>dribbling_zscore</th>\n",
              "      <th>defending_zscore</th>\n",
              "      <th>physique_zscore</th>\n",
              "      <th>age_outlier</th>\n",
              "      <th>pace_outlier</th>\n",
              "      <th>shooting_outlier</th>\n",
              "      <th>passing_outlier</th>\n",
              "      <th>dribbling_outlier</th>\n",
              "      <th>defending_outlier</th>\n",
              "      <th>physique_outlier</th>\n",
              "    </tr>\n",
              "  </thead>\n",
              "  <tbody>\n",
              "    <tr>\n",
              "      <th>0</th>\n",
              "      <td>L. Messi</td>\n",
              "      <td>27</td>\n",
              "      <td>1.0</td>\n",
              "      <td>93.0</td>\n",
              "      <td>89.0</td>\n",
              "      <td>86.0</td>\n",
              "      <td>96.0</td>\n",
              "      <td>27.0</td>\n",
              "      <td>63.0</td>\n",
              "      <td>93</td>\n",
              "      <td>...</td>\n",
              "      <td>3.299889</td>\n",
              "      <td>-1.448172</td>\n",
              "      <td>-0.158353</td>\n",
              "      <td>False</td>\n",
              "      <td>False</td>\n",
              "      <td>False</td>\n",
              "      <td>False</td>\n",
              "      <td>True</td>\n",
              "      <td>False</td>\n",
              "      <td>False</td>\n",
              "    </tr>\n",
              "    <tr>\n",
              "      <th>1</th>\n",
              "      <td>Cristiano Ronaldo</td>\n",
              "      <td>29</td>\n",
              "      <td>1.0</td>\n",
              "      <td>93.0</td>\n",
              "      <td>93.0</td>\n",
              "      <td>81.0</td>\n",
              "      <td>91.0</td>\n",
              "      <td>32.0</td>\n",
              "      <td>79.0</td>\n",
              "      <td>92</td>\n",
              "      <td>...</td>\n",
              "      <td>2.834903</td>\n",
              "      <td>-1.131313</td>\n",
              "      <td>1.491336</td>\n",
              "      <td>False</td>\n",
              "      <td>False</td>\n",
              "      <td>True</td>\n",
              "      <td>False</td>\n",
              "      <td>False</td>\n",
              "      <td>False</td>\n",
              "      <td>False</td>\n",
              "    </tr>\n",
              "    <tr>\n",
              "      <th>2</th>\n",
              "      <td>A. Robben</td>\n",
              "      <td>30</td>\n",
              "      <td>1.0</td>\n",
              "      <td>93.0</td>\n",
              "      <td>86.0</td>\n",
              "      <td>83.0</td>\n",
              "      <td>92.0</td>\n",
              "      <td>32.0</td>\n",
              "      <td>64.0</td>\n",
              "      <td>90</td>\n",
              "      <td>...</td>\n",
              "      <td>2.927900</td>\n",
              "      <td>-1.131313</td>\n",
              "      <td>-0.055247</td>\n",
              "      <td>False</td>\n",
              "      <td>False</td>\n",
              "      <td>False</td>\n",
              "      <td>False</td>\n",
              "      <td>False</td>\n",
              "      <td>False</td>\n",
              "      <td>False</td>\n",
              "    </tr>\n",
              "    <tr>\n",
              "      <th>3</th>\n",
              "      <td>Z. Ibrahimović</td>\n",
              "      <td>32</td>\n",
              "      <td>1.0</td>\n",
              "      <td>76.0</td>\n",
              "      <td>91.0</td>\n",
              "      <td>81.0</td>\n",
              "      <td>86.0</td>\n",
              "      <td>34.0</td>\n",
              "      <td>86.0</td>\n",
              "      <td>90</td>\n",
              "      <td>...</td>\n",
              "      <td>2.369918</td>\n",
              "      <td>-1.004570</td>\n",
              "      <td>2.213074</td>\n",
              "      <td>False</td>\n",
              "      <td>False</td>\n",
              "      <td>False</td>\n",
              "      <td>False</td>\n",
              "      <td>False</td>\n",
              "      <td>False</td>\n",
              "      <td>False</td>\n",
              "    </tr>\n",
              "    <tr>\n",
              "      <th>5</th>\n",
              "      <td>Iniesta</td>\n",
              "      <td>30</td>\n",
              "      <td>1.0</td>\n",
              "      <td>75.0</td>\n",
              "      <td>72.0</td>\n",
              "      <td>89.0</td>\n",
              "      <td>91.0</td>\n",
              "      <td>59.0</td>\n",
              "      <td>63.0</td>\n",
              "      <td>89</td>\n",
              "      <td>...</td>\n",
              "      <td>2.834903</td>\n",
              "      <td>0.579723</td>\n",
              "      <td>-0.158353</td>\n",
              "      <td>False</td>\n",
              "      <td>False</td>\n",
              "      <td>False</td>\n",
              "      <td>True</td>\n",
              "      <td>False</td>\n",
              "      <td>False</td>\n",
              "      <td>False</td>\n",
              "    </tr>\n",
              "  </tbody>\n",
              "</table>\n",
              "<p>5 rows × 25 columns</p>\n",
              "</div>"
            ],
            "text/plain": [
              "          short_name  age  league_level  pace  shooting  passing  dribbling  \\\n",
              "0           L. Messi   27           1.0  93.0      89.0     86.0       96.0   \n",
              "1  Cristiano Ronaldo   29           1.0  93.0      93.0     81.0       91.0   \n",
              "2          A. Robben   30           1.0  93.0      86.0     83.0       92.0   \n",
              "3     Z. Ibrahimović   32           1.0  76.0      91.0     81.0       86.0   \n",
              "5            Iniesta   30           1.0  75.0      72.0     89.0       91.0   \n",
              "\n",
              "   defending  physique  overall  ... dribbling_zscore  defending_zscore  \\\n",
              "0       27.0      63.0       93  ...         3.299889         -1.448172   \n",
              "1       32.0      79.0       92  ...         2.834903         -1.131313   \n",
              "2       32.0      64.0       90  ...         2.927900         -1.131313   \n",
              "3       34.0      86.0       90  ...         2.369918         -1.004570   \n",
              "5       59.0      63.0       89  ...         2.834903          0.579723   \n",
              "\n",
              "   physique_zscore  age_outlier  pace_outlier  shooting_outlier  \\\n",
              "0        -0.158353        False         False             False   \n",
              "1         1.491336        False         False              True   \n",
              "2        -0.055247        False         False             False   \n",
              "3         2.213074        False         False             False   \n",
              "5        -0.158353        False         False             False   \n",
              "\n",
              "   passing_outlier  dribbling_outlier  defending_outlier  physique_outlier  \n",
              "0            False               True              False             False  \n",
              "1            False              False              False             False  \n",
              "2            False              False              False             False  \n",
              "3            False              False              False             False  \n",
              "5             True              False              False             False  \n",
              "\n",
              "[5 rows x 25 columns]"
            ]
          },
          "execution_count": 128,
          "metadata": {},
          "output_type": "execute_result"
        }
      ],
      "source": [
        "# check if quantitative variables have outliers.\n",
        "#using z-score method to detect outliers\n",
        "df['age_zscore'] = (df['age'] - df['age'].mean())/df['age'].std()\n",
        "df['pace_zscore'] = (df['pace'] - df['pace'].mean())/df['pace'].std()\n",
        "df['shooting_zscore'] = (df['shooting'] - df['shooting'].mean())/df['shooting'].std()\n",
        "df['passing_zscore'] = (df['passing'] - df['passing'].mean())/df['passing'].std()\n",
        "df['dribbling_zscore'] = (df['dribbling'] - df['dribbling'].mean())/df['dribbling'].std()\n",
        "df['defending_zscore'] = (df['defending'] - df['defending'].mean())/df['defending'].std()\n",
        "df['physique_zscore'] = (df['physique'] - df['physique'].mean())/df['physique'].std()\n",
        "\n",
        "threshold = 3\n",
        "df['age_outlier'] = abs(df['age_zscore']) > threshold\n",
        "df['pace_outlier'] = abs(df['pace_zscore']) > threshold\n",
        "df['shooting_outlier'] = abs(df['shooting_zscore']) > threshold\n",
        "df['passing_outlier'] = abs(df['passing_zscore']) > threshold\n",
        "df['dribbling_outlier'] = abs(df['dribbling_zscore']) > threshold\n",
        "df['defending_outlier'] = abs(df['defending_zscore']) > threshold\n",
        "df['physique_outlier'] = abs(df['physique_zscore']) > threshold\n",
        "\n",
        "df.head()"
      ]
    },
    {
      "cell_type": "markdown",
      "id": "a980344f",
      "metadata": {
        "id": "a980344f"
      },
      "source": [
        "## 3. EDA\n"
      ]
    },
    {
      "cell_type": "code",
      "execution_count": null,
      "id": "d59961ea",
      "metadata": {
        "id": "d59961ea",
        "outputId": "ab69cd77-d9b6-4ecc-8e5c-c92741796404"
      },
      "outputs": [
        {
          "data": {
            "text/plain": [
              "Text(0, 0.5, 'Frequency')"
            ]
          },
          "execution_count": 130,
          "metadata": {},
          "output_type": "execute_result"
        },
        {
          "data": {
            "image/png": "[encoded data removed]",
            "text/plain": [
              "<Figure size 640x480 with 1 Axes>"
            ]
          },
          "metadata": {},
          "output_type": "display_data"
        }
      ],
      "source": [
        "#Explore distribution of Age\n",
        "plt.subplot(1, 3, 1)\n",
        "plt.hist(df['age'], bins=10, color='skyblue', edgecolor='black')\n",
        "plt.xlabel('Age')\n",
        "plt.ylabel('Frequency')"
      ]
    },
    {
      "cell_type": "code",
      "execution_count": null,
      "id": "ecc7dead",
      "metadata": {
        "id": "ecc7dead",
        "outputId": "0ae8551b-069c-4c24-b83d-4860b60facb0"
      },
      "outputs": [
        {
          "data": {
            "text/plain": [
              "Text(0, 0.5, 'Frequency')"
            ]
          },
          "execution_count": 131,
          "metadata": {},
          "output_type": "execute_result"
        },
        {
          "data": {
            "image/png": "[encoded data removed]",
            "text/plain": [
              "<Figure size 640x480 with 1 Axes>"
            ]
          },
          "metadata": {},
          "output_type": "display_data"
        }
      ],
      "source": [
        "# Explore distribution of Overall rating\n",
        "plt.subplot(1, 3, 1)\n",
        "plt.hist(df['overall'], bins=10, color='skyblue', edgecolor='black')\n",
        "plt.xlabel('Overall Rating')\n",
        "plt.ylabel('Frequency')"
      ]
    },
    {
      "cell_type": "code",
      "execution_count": null,
      "id": "65fbf24e",
      "metadata": {
        "id": "65fbf24e",
        "outputId": "78de0fdd-3953-40be-e4ac-6dee72be1be9"
      },
      "outputs": [
        {
          "name": "stdout",
          "output_type": "stream",
          "text": [
            "['CF' 'LW' 'RM' 'ST' 'CM' 'LM' 'CDM' 'CB' 'CAM' 'RW' 'RB' 'LB' 'LWB' 'RWB']\n"
          ]
        },
        {
          "data": {
            "text/html": [
              "<div>\n",
              "<style scoped>\n",
              "    .dataframe tbody tr th:only-of-type {\n",
              "        vertical-align: middle;\n",
              "    }\n",
              "\n",
              "    .dataframe tbody tr th {\n",
              "        vertical-align: top;\n",
              "    }\n",
              "\n",
              "    .dataframe thead th {\n",
              "        text-align: right;\n",
              "    }\n",
              "</style>\n",
              "<table border=\"1\" class=\"dataframe\">\n",
              "  <thead>\n",
              "    <tr style=\"text-align: right;\">\n",
              "      <th></th>\n",
              "      <th>short_name</th>\n",
              "      <th>age</th>\n",
              "      <th>league_level</th>\n",
              "      <th>pace</th>\n",
              "      <th>shooting</th>\n",
              "      <th>passing</th>\n",
              "      <th>dribbling</th>\n",
              "      <th>defending</th>\n",
              "      <th>physique</th>\n",
              "      <th>overall</th>\n",
              "      <th>position</th>\n",
              "      <th>pos_category</th>\n",
              "    </tr>\n",
              "  </thead>\n",
              "  <tbody>\n",
              "    <tr>\n",
              "      <th>0</th>\n",
              "      <td>L. Messi</td>\n",
              "      <td>27</td>\n",
              "      <td>1.0</td>\n",
              "      <td>93.0</td>\n",
              "      <td>89.0</td>\n",
              "      <td>86.0</td>\n",
              "      <td>96.0</td>\n",
              "      <td>27.0</td>\n",
              "      <td>63.0</td>\n",
              "      <td>93</td>\n",
              "      <td>CF</td>\n",
              "      <td>Attack</td>\n",
              "    </tr>\n",
              "    <tr>\n",
              "      <th>1</th>\n",
              "      <td>Cristiano Ronaldo</td>\n",
              "      <td>29</td>\n",
              "      <td>1.0</td>\n",
              "      <td>93.0</td>\n",
              "      <td>93.0</td>\n",
              "      <td>81.0</td>\n",
              "      <td>91.0</td>\n",
              "      <td>32.0</td>\n",
              "      <td>79.0</td>\n",
              "      <td>92</td>\n",
              "      <td>LW</td>\n",
              "      <td>Attack</td>\n",
              "    </tr>\n",
              "    <tr>\n",
              "      <th>2</th>\n",
              "      <td>A. Robben</td>\n",
              "      <td>30</td>\n",
              "      <td>1.0</td>\n",
              "      <td>93.0</td>\n",
              "      <td>86.0</td>\n",
              "      <td>83.0</td>\n",
              "      <td>92.0</td>\n",
              "      <td>32.0</td>\n",
              "      <td>64.0</td>\n",
              "      <td>90</td>\n",
              "      <td>RM</td>\n",
              "      <td>Midfield</td>\n",
              "    </tr>\n",
              "    <tr>\n",
              "      <th>3</th>\n",
              "      <td>Z. Ibrahimović</td>\n",
              "      <td>32</td>\n",
              "      <td>1.0</td>\n",
              "      <td>76.0</td>\n",
              "      <td>91.0</td>\n",
              "      <td>81.0</td>\n",
              "      <td>86.0</td>\n",
              "      <td>34.0</td>\n",
              "      <td>86.0</td>\n",
              "      <td>90</td>\n",
              "      <td>ST</td>\n",
              "      <td>Attack</td>\n",
              "    </tr>\n",
              "    <tr>\n",
              "      <th>5</th>\n",
              "      <td>Iniesta</td>\n",
              "      <td>30</td>\n",
              "      <td>1.0</td>\n",
              "      <td>75.0</td>\n",
              "      <td>72.0</td>\n",
              "      <td>89.0</td>\n",
              "      <td>91.0</td>\n",
              "      <td>59.0</td>\n",
              "      <td>63.0</td>\n",
              "      <td>89</td>\n",
              "      <td>CM</td>\n",
              "      <td>Midfield</td>\n",
              "    </tr>\n",
              "  </tbody>\n",
              "</table>\n",
              "</div>"
            ],
            "text/plain": [
              "          short_name  age  league_level  pace  shooting  passing  dribbling  \\\n",
              "0           L. Messi   27           1.0  93.0      89.0     86.0       96.0   \n",
              "1  Cristiano Ronaldo   29           1.0  93.0      93.0     81.0       91.0   \n",
              "2          A. Robben   30           1.0  93.0      86.0     83.0       92.0   \n",
              "3     Z. Ibrahimović   32           1.0  76.0      91.0     81.0       86.0   \n",
              "5            Iniesta   30           1.0  75.0      72.0     89.0       91.0   \n",
              "\n",
              "   defending  physique  overall position pos_category  \n",
              "0       27.0      63.0       93       CF       Attack  \n",
              "1       32.0      79.0       92       LW       Attack  \n",
              "2       32.0      64.0       90       RM     Midfield  \n",
              "3       34.0      86.0       90       ST       Attack  \n",
              "5       59.0      63.0       89       CM     Midfield  "
            ]
          },
          "execution_count": 132,
          "metadata": {},
          "output_type": "execute_result"
        }
      ],
      "source": [
        "#Perform EDA\n",
        "\n",
        "\n",
        "# get first value in the player positions column for the sake of simplicity\n",
        "df['position'] = df['player_positions'].str.split(',').str[0].str.strip()\n",
        "\n",
        "#List all the unique positions and classify them into broad categories of Attack, midfield and defence\n",
        "print(df['position'].unique())\n",
        "\n",
        "#function to categorize the player positions\n",
        "def categorize_positions(pos):\n",
        "    #Use the below dictionary, with key as the broad category and list of values as the specific positions\n",
        "    position_category = {'Attack': ['CF', 'ST', 'RW', 'LW'], 'Midfield': ['RM', 'LM', 'CM', 'CDM', 'CAM'], 'Defence': ['CB', 'RB', 'LB', 'LWB', 'RWB', 'GK']}\n",
        "    for key,value in position_category.items():\n",
        "        if pos in value:\n",
        "            return key\n",
        "    return None\n",
        "\n",
        "#Classify the positions into broad categories, Attack, Defence and Midfield and put them in column pos_category\n",
        "df['pos_category'] = df['position'].apply(lambda x: categorize_positions(x))\n",
        "\n",
        "#keeping relevant columns for our analysis and filtering the rest\n",
        "df = df.filter(items=['short_name', 'age', 'league_level', 'pace', 'shooting', 'passing', 'dribbling', 'defending', 'physique', 'overall', 'position', 'pos_category'])\n",
        "df.head()"
      ]
    },
    {
      "cell_type": "markdown",
      "id": "1eec9fc3",
      "metadata": {
        "id": "1eec9fc3"
      },
      "source": [
        "## 4. Conclusion"
      ]
    },
    {
      "cell_type": "markdown",
      "id": "112955c6",
      "metadata": {
        "id": "112955c6"
      },
      "source": [
        "# Answer the questions\n",
        "\n",
        "### Question 1 : How do player attributes vary based on attacking vs mid vs defensive positions?"
      ]
    },
    {
      "cell_type": "code",
      "execution_count": null,
      "id": "9bed2b26",
      "metadata": {
        "id": "9bed2b26",
        "outputId": "7cf74c2f-516b-4ea3-911f-0cf513a2abd1"
      },
      "outputs": [
        {
          "name": "stderr",
          "output_type": "stream",
          "text": [
            "/var/folders/gs/h3rcmfyd7g10f470vvjqrh140000gn/T/ipykernel_92444/2040257725.py:2: FutureWarning: Indexing with multiple keys (implicitly converted to a tuple of keys) will be deprecated, use a list instead.\n",
            "  pos_df = df.groupby('pos_category')['pace', 'shooting', 'passing', 'dribbling', 'defending', 'physique', 'overall'].mean().reset_index()\n"
          ]
        },
        {
          "data": {
            "image/png": "[encoded data removed]",
            "text/plain": [
              "<Figure size 1000x600 with 1 Axes>"
            ]
          },
          "metadata": {},
          "output_type": "display_data"
        }
      ],
      "source": [
        "#create a separate dataframe for plotting the comparison of attributes based on positions\n",
        "pos_df = df.groupby('pos_category')['pace', 'shooting', 'passing', 'dribbling', 'defending', 'physique', 'overall'].mean().reset_index()\n",
        "\n",
        "pos_df.head()\n",
        "# Set positions as the index for better plotting\n",
        "pos_df.set_index('pos_category', inplace=True)\n",
        "\n",
        "# Plotting the graph\n",
        "pos_df.plot(kind='bar', figsize=(10, 6))\n",
        "plt.xlabel('Position')\n",
        "plt.ylabel('Attribute Value')\n",
        "plt.title('Comparison of Attributes for Different Positions')\n",
        "plt.legend(title='Attributes')\n",
        "plt.xticks(rotation=0)\n",
        "plt.show()"
      ]
    },
    {
      "cell_type": "markdown",
      "id": "94bd195c",
      "metadata": {
        "id": "94bd195c"
      },
      "source": [
        "### Question 2 : Are there any patterns in the performance of players based on their ages?"
      ]
    },
    {
      "cell_type": "code",
      "execution_count": null,
      "id": "132dbddf",
      "metadata": {
        "id": "132dbddf",
        "outputId": "32c6cc98-dcd3-44d7-d72b-3145ee41682f"
      },
      "outputs": [
        {
          "data": {
            "image/png": "[encoded data removed]",
            "text/plain": [
              "<Figure size 800x600 with 1 Axes>"
            ]
          },
          "metadata": {},
          "output_type": "display_data"
        }
      ],
      "source": [
        "age_rating = df.groupby('age')['overall'].mean().reset_index()\n",
        "\n",
        "age_rating.head()\n",
        "# df = pd.merge(df, age_rating, on='age', )\n",
        "\n",
        "plt.figure(figsize=(8, 6))\n",
        "plt.plot(age_rating['age'], age_rating['overall'], marker='o', color='b', linestyle='-', linewidth=2, markersize=8)\n",
        "plt.xlabel('Age')\n",
        "plt.ylabel('Overall Rating')\n",
        "plt.title('Player Performance Based on Age')\n",
        "plt.grid(True)\n",
        "plt.show()"
      ]
    },
    {
      "cell_type": "markdown",
      "id": "84313a44",
      "metadata": {
        "id": "84313a44"
      },
      "source": [
        "## 5. Summary\n",
        "\n",
        "### Question 1 : How do player attributes vary based on attacking vs mid vs defensive positions?\n",
        "As seen in the graph, the following trend is observed:\n",
        "1) Attacking positions have high rating for attributes pace, shooting and dribbling  \n",
        "2) Midfield positions have high rating for attributes pace, passing, dribbilng\n",
        "3) Defensive positions have high rating for attributes defending and physique\n",
        "4) The overall rating is constant across all positions\n",
        "\n",
        "### Question 2 : Are there any patterns in the performance of players based on their ages?\n",
        "The following observations can be made for the given question:\n",
        "1) The rating of players somewhat linearly for the age range 15-25\n",
        "2) There is no significant difference in rating for the age group 25-35\n",
        "3) For the group 35+, the rating starts dropping except for an outlier which is at the peak"
      ]
    },
    {
      "cell_type": "code",
      "execution_count": null,
      "id": "c9317f08",
      "metadata": {
        "id": "c9317f08"
      },
      "outputs": [],
      "source": []
    }
  ],
  "metadata": {
    "kernelspec": {
      "display_name": "Python 3 (ipykernel)",
      "language": "python",
      "name": "python3"
    },
    "language_info": {
      "codemirror_mode": {
        "name": "ipython",
        "version": 3
      },
      "file_extension": ".py",
      "mimetype": "text/x-python",
      "name": "python",
      "nbconvert_exporter": "python",
      "pygments_lexer": "ipython3",
      "version": "3.11.4"
    },
    "colab": {
      "provenance": [],
      "include_colab_link": true
    }
  },
  "nbformat": 4,
  "nbformat_minor": 5
}